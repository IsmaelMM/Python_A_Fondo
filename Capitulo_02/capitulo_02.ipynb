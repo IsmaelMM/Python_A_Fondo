{
 "cells": [
  {
   "cell_type": "markdown",
   "id": "61c874e5-1f82-4eeb-a57b-082c2bad3b60",
   "metadata": {},
   "source": [
    "## 1 INTRODUCCIÓN A LOS TIPOS DE DATOS"
   ]
  },
  {
   "cell_type": "code",
   "execution_count": 1,
   "id": "cf36d524-9f62-437d-9530-759477c5f7cb",
   "metadata": {},
   "outputs": [
    {
     "data": {
      "text/plain": [
       "int"
      ]
     },
     "execution_count": 1,
     "metadata": {},
     "output_type": "execute_result"
    }
   ],
   "source": [
    "# Haciendo uso de la función type se puede saber el tipo de cualquier objeto\n",
    "type(45)"
   ]
  },
  {
   "cell_type": "code",
   "execution_count": 2,
   "id": "d8a57eba-fd5a-420d-a5a0-5eecd47a639d",
   "metadata": {},
   "outputs": [
    {
     "data": {
      "text/plain": [
       "str"
      ]
     },
     "execution_count": 2,
     "metadata": {},
     "output_type": "execute_result"
    }
   ],
   "source": [
    "type('libro')"
   ]
  },
  {
   "cell_type": "code",
   "execution_count": 3,
   "id": "d89507f6-2862-4500-b1e8-05b4495fd137",
   "metadata": {},
   "outputs": [
    {
     "data": {
      "text/plain": [
       "dict"
      ]
     },
     "execution_count": 3,
     "metadata": {},
     "output_type": "execute_result"
    }
   ],
   "source": [
    "type(dict(x=1, y=45, z=14))"
   ]
  },
  {
   "cell_type": "code",
   "execution_count": 4,
   "id": "21d028c1-c35c-4578-b7fe-9ffe33b5ebb5",
   "metadata": {},
   "outputs": [],
   "source": [
    "# haciendo uso de la función dir se pueden ver todas las operaciones disponibles para ese tipo de dato en concreto"
   ]
  },
  {
   "cell_type": "code",
   "execution_count": null,
   "id": "50d5922f-4278-4549-9642-cee193957788",
   "metadata": {},
   "outputs": [],
   "source": [
    "dir(45)"
   ]
  },
  {
   "cell_type": "code",
   "execution_count": null,
   "id": "31202de5-bf80-4dd7-8880-27cbe41a950b",
   "metadata": {},
   "outputs": [],
   "source": [
    "dir(list())"
   ]
  },
  {
   "cell_type": "code",
   "execution_count": null,
   "id": "932bf0be-0dd8-45cc-8bb4-407988241843",
   "metadata": {},
   "outputs": [],
   "source": [
    "dir(dict())"
   ]
  },
  {
   "cell_type": "markdown",
   "id": "05f53e0e-b88e-4714-8652-74721fa5570c",
   "metadata": {},
   "source": [
    "## 2 LITERALES, VARIABLES Y DATOS EN PYTHON"
   ]
  },
  {
   "cell_type": "markdown",
   "id": "266cf3b3-3c62-402c-8dad-6aa116d5b2dc",
   "metadata": {},
   "source": [
    "### 2.1 LITERALES"
   ]
  },
  {
   "cell_type": "code",
   "execution_count": 1,
   "id": "7055c7ca-2dd7-4a88-af22-b92565e047ee",
   "metadata": {},
   "outputs": [],
   "source": [
    "import ctypes"
   ]
  },
  {
   "cell_type": "code",
   "execution_count": 10,
   "id": "bd500b80-6184-4028-bb43-827e29cebe86",
   "metadata": {},
   "outputs": [
    {
     "data": {
      "text/plain": [
       "1903394713168"
      ]
     },
     "execution_count": 10,
     "metadata": {},
     "output_type": "execute_result"
    }
   ],
   "source": [
    "id(42)"
   ]
  },
  {
   "cell_type": "code",
   "execution_count": 13,
   "id": "5f740d83-830d-4ab6-ab7a-757f8123177c",
   "metadata": {},
   "outputs": [
    {
     "data": {
      "text/plain": [
       "1903394713168"
      ]
     },
     "execution_count": 13,
     "metadata": {},
     "output_type": "execute_result"
    }
   ],
   "source": [
    "id(43-1)"
   ]
  },
  {
   "cell_type": "code",
   "execution_count": 2,
   "id": "0c62bf59-2d04-402b-87bf-57075ec6beb9",
   "metadata": {},
   "outputs": [
    {
     "data": {
      "text/plain": [
       "2773813244528"
      ]
     },
     "execution_count": 2,
     "metadata": {},
     "output_type": "execute_result"
    }
   ],
   "source": [
    "id('b')"
   ]
  },
  {
   "cell_type": "code",
   "execution_count": 3,
   "id": "340f599f-c948-46d2-af6f-ccf968f52b49",
   "metadata": {},
   "outputs": [
    {
     "data": {
      "text/plain": [
       "'b'"
      ]
     },
     "execution_count": 3,
     "metadata": {},
     "output_type": "execute_result"
    }
   ],
   "source": [
    "ctypes.cast(2773813244528, ctypes.py_object).value"
   ]
  },
  {
   "cell_type": "markdown",
   "id": "3c7887c9-7b3b-4baf-bcab-75d9d86d373a",
   "metadata": {},
   "source": [
    "### 2.2 VARIABLES E IDENTIFICADORES"
   ]
  },
  {
   "cell_type": "code",
   "execution_count": 5,
   "id": "7d607c7c-1cee-4468-9b77-3c00bd24ff59",
   "metadata": {},
   "outputs": [],
   "source": [
    "# Uno de los componentes clave para todos los lenguajes de programación son las variables."
   ]
  },
  {
   "cell_type": "code",
   "execution_count": 6,
   "id": "9d2d2f2d-ec16-4f2f-8e1d-65b8f025f2ea",
   "metadata": {},
   "outputs": [],
   "source": [
    "puntuacion = 23"
   ]
  },
  {
   "cell_type": "code",
   "execution_count": 7,
   "id": "b63237ee-1908-4aa4-bef1-55b27ecc2a58",
   "metadata": {},
   "outputs": [],
   "source": [
    "ciudad = 'Nueva York'"
   ]
  },
  {
   "cell_type": "code",
   "execution_count": 8,
   "id": "c0c43789-152a-47e1-8036-1831994ddf05",
   "metadata": {},
   "outputs": [
    {
     "data": {
      "text/plain": [
       "23"
      ]
     },
     "execution_count": 8,
     "metadata": {},
     "output_type": "execute_result"
    }
   ],
   "source": [
    "puntuacion"
   ]
  },
  {
   "cell_type": "code",
   "execution_count": 9,
   "id": "0ecc7436-d7c1-49ed-b691-69e7656f17e9",
   "metadata": {},
   "outputs": [
    {
     "data": {
      "text/plain": [
       "'Nueva York'"
      ]
     },
     "execution_count": 9,
     "metadata": {},
     "output_type": "execute_result"
    }
   ],
   "source": [
    "ciudad"
   ]
  },
  {
   "cell_type": "code",
   "execution_count": null,
   "id": "66e2e86f-0245-4673-9497-79de954d3dae",
   "metadata": {},
   "outputs": [],
   "source": []
  }
 ],
 "metadata": {
  "kernelspec": {
   "display_name": "Python 3 (ipykernel)",
   "language": "python",
   "name": "python3"
  },
  "language_info": {
   "codemirror_mode": {
    "name": "ipython",
    "version": 3
   },
   "file_extension": ".py",
   "mimetype": "text/x-python",
   "name": "python",
   "nbconvert_exporter": "python",
   "pygments_lexer": "ipython3",
   "version": "3.9.13"
  }
 },
 "nbformat": 4,
 "nbformat_minor": 5
}
